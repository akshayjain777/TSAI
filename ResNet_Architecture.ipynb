{
  "nbformat": 4,
  "nbformat_minor": 0,
  "metadata": {
    "colab": {
      "name": "ResNet_Architecture.ipynb",
      "provenance": [],
      "collapsed_sections": [],
      "include_colab_link": true
    },
    "kernelspec": {
      "name": "python3",
      "display_name": "Python 3"
    },
    "accelerator": "GPU"
  },
  "cells": [
    {
      "cell_type": "markdown",
      "metadata": {
        "id": "view-in-github",
        "colab_type": "text"
      },
      "source": [
        "<a href=\"https://colab.research.google.com/github/akshayjain777/TSAI/blob/master/ResNet_Architecture.ipynb\" target=\"_parent\"><img src=\"https://colab.research.google.com/assets/colab-badge.svg\" alt=\"Open In Colab\"/></a>"
      ]
    },
    {
      "cell_type": "code",
      "metadata": {
        "id": "B2OsaMs-J-kp",
        "colab_type": "code",
        "colab": {}
      },
      "source": [
        "import torch\n",
        "import torch.nn as nn\n",
        "import torch.nn.functional as F ## activation function\n",
        "import torchvision ##contains dataset\n",
        "import pdb"
      ],
      "execution_count": 0,
      "outputs": []
    },
    {
      "cell_type": "code",
      "metadata": {
        "id": "Kjq_Nrn3RyEJ",
        "colab_type": "code",
        "colab": {}
      },
      "source": [
        "class baseBlock_layer_1_3(torch.nn.Module):\n",
        "  \n",
        "  def __init__(self, input_planes, planes, stride=1):\n",
        "    super(baseBlock_layer_1_3, self).__init__()\n",
        "    \n",
        "    #declare convolution layers with batch norms\n",
        "    self.baseconv = nn.Sequential(\n",
        "        nn.Conv2d(input_planes,planes,stride=stride,kernel_size=3,padding=1),\n",
        "        nn.MaxPool2d(2,2),\n",
        "        nn.BatchNorm2d(planes),\n",
        "        nn.ReLU(),\n",
        "    )\n",
        "    \n",
        "\n",
        "    self.conv1 = torch.nn.Conv2d(planes,planes,stride=stride,kernel_size=3,padding=1)\n",
        "    self.bn1= torch.nn.BatchNorm2d(planes)\n",
        "    self.conv2 = torch.nn.Conv2d(planes,planes,stride=1,kernel_size=3,padding=1)\n",
        "    self.bn2=torch.nn.BatchNorm2d(planes)\n",
        "    \n",
        "  def forward(self,x):\n",
        "    x = self.baseconv(x)\n",
        "\n",
        "    output = F.relu(self.bn1(self.conv1(x)))\n",
        "    output = F.relu(self.bn2(self.conv2(output)))\n",
        "\n",
        "    x += output\n",
        "    \n",
        "    return x"
      ],
      "execution_count": 0,
      "outputs": []
    },
    {
      "cell_type": "code",
      "metadata": {
        "id": "WXXNGBCzLVhY",
        "colab_type": "code",
        "colab": {}
      },
      "source": [
        "class baseBlock_layer_2(torch.nn.Module):\n",
        "  \n",
        "  def __init__(self, input_planes, planes, stride=1):\n",
        "    super(baseBlock_layer_2, self).__init__()\n",
        "    \n",
        "    self.conv1 = torch.nn.Conv2d(input_planes,planes,stride=stride,kernel_size=3,padding=1)\n",
        "    self.pool1 = torch.nn.MaxPool2d(2,2) \n",
        "    self.bn1= torch.nn.BatchNorm2d(planes)\n",
        "    \n",
        "  def forward(self,x):\n",
        "    output = self.pool1(F.relu(self.bn1(self.conv1(x))))\n",
        "    return output"
      ],
      "execution_count": 0,
      "outputs": []
    },
    {
      "cell_type": "code",
      "metadata": {
        "id": "NfdkodDaSH86",
        "colab_type": "code",
        "colab": {}
      },
      "source": [
        "class ResNet(torch.nn.Module):\n",
        "  def __init__(self, block1_3, block2, classes=10):\n",
        "    super(ResNet,self).__init__()\n",
        "    self.in_planes = 64\n",
        "    \n",
        "    self.conv1= torch.nn.Conv2d(3, self.in_planes, kernel_size=3,stride=1,padding=1)\n",
        "    self.bn1= torch.nn.BatchNorm2d(64)\n",
        "\n",
        "    \n",
        "    self.layer1 = self._layer(block1_3, self.in_planes, 128, stride=1)\n",
        "    self.layer2 = self._layer(block2, self.in_planes, 256, stride=1)\n",
        "    self.layer3 = self._layer(block1_3, self.in_planes, 512, stride=1)\n",
        "\n",
        "    self.fc = nn.Linear(self.in_planes, classes)\n",
        "    \n",
        "  def _layer(self,block,in_planes,planes,stride=1):\n",
        "    netLayers= []\n",
        "    netLayers.append(block(in_planes, planes, stride=stride))\n",
        "    self.in_planes = planes\n",
        "    return torch.nn.Sequential(*netLayers)\n",
        "  \n",
        "  def forward(self,x):\n",
        "    x= F.relu(self.bn1(self.conv1(x)))\n",
        "    \n",
        "    print(x.shape)\n",
        "\n",
        "    x=self.layer1(x)\n",
        "    print(x.shape)\n",
        "\n",
        "    x=self.layer2(x)\n",
        "    print(x.shape)\n",
        "\n",
        "    x=self.layer3(x)\n",
        "    print(x.shape)\n",
        "\n",
        "    x = F.max_pool2d(x,4)\n",
        "    print(x.shape)\n",
        "\n",
        "    x=x.view(-1, x.size(1))\n",
        "    print(x.shape)\n",
        "\n",
        "    x=self.fc(x)\n",
        "    print(x.shape)\n",
        "\n",
        "    x= F.log_softmax(x,dim=-1)\n",
        "    \n",
        "\n",
        "    return x\n",
        "  "
      ],
      "execution_count": 0,
      "outputs": []
    },
    {
      "cell_type": "code",
      "metadata": {
        "id": "ZBjQ3bae1S75",
        "colab_type": "code",
        "colab": {}
      },
      "source": [
        "def ResNet18():\n",
        "    return ResNet(baseBlock_layer_1_3, baseBlock_layer_2)"
      ],
      "execution_count": 0,
      "outputs": []
    },
    {
      "cell_type": "code",
      "metadata": {
        "id": "ha9hDETjWCjB",
        "colab_type": "code",
        "colab": {}
      },
      "source": [
        "def test():\n",
        "    net = ResNet18()\n",
        "    y = net(torch.randn(3, 3, 32, 32))\n",
        "    print(y.size())"
      ],
      "execution_count": 0,
      "outputs": []
    },
    {
      "cell_type": "code",
      "metadata": {
        "id": "wafeqIC0ssmc",
        "colab_type": "code",
        "outputId": "bc4dd273-c75c-46d0-c74c-3faea87db278",
        "colab": {
          "base_uri": "https://localhost:8080/",
          "height": 153
        }
      },
      "source": [
        "test()"
      ],
      "execution_count": 0,
      "outputs": [
        {
          "output_type": "stream",
          "text": [
            "torch.Size([3, 64, 32, 32])\n",
            "torch.Size([3, 128, 16, 16])\n",
            "torch.Size([3, 256, 8, 8])\n",
            "torch.Size([3, 512, 4, 4])\n",
            "torch.Size([3, 512, 1, 1])\n",
            "torch.Size([3, 512])\n",
            "torch.Size([3, 10])\n",
            "torch.Size([3, 10])\n"
          ],
          "name": "stdout"
        }
      ]
    },
    {
      "cell_type": "code",
      "metadata": {
        "id": "O2ctCVMCdhLD",
        "colab_type": "code",
        "colab": {}
      },
      "source": [
        ""
      ],
      "execution_count": 0,
      "outputs": []
    }
  ]
}